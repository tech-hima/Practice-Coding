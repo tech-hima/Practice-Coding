{
 "cells": [
  {
   "cell_type": "code",
   "execution_count": 23,
   "id": "cbc12151",
   "metadata": {},
   "outputs": [
    {
     "name": "stdout",
     "output_type": "stream",
     "text": [
      "3\n",
      "pen 2\n",
      "pen 2\n",
      "lays 4\n",
      "OrderedDict([('pen', 4), ('lays', 4)])\n"
     ]
    }
   ],
   "source": [
    "import collections \n",
    "from collections import OrderedDict\n",
    "n=int(input())\n",
    "price_list={}\n",
    "price_list = OrderedDict()\n",
    "for i in range(n):\n",
    "    item,price=input().split()\n",
    "    if item in price_list:\n",
    "        new_price = int(int(price) + int(price))\n",
    "        price_list[item]=new_price\n",
    "    else:\n",
    "        price_list[item]= int(price)\n",
    "print(price_list)"
   ]
  },
  {
   "cell_type": "code",
   "execution_count": 20,
   "id": "d69411f1",
   "metadata": {},
   "outputs": [
    {
     "name": "stdout",
     "output_type": "stream",
     "text": [
      "3\n",
      "chips 10\n"
     ]
    },
    {
     "ename": "ValueError",
     "evalue": "invalid literal for int() with base 10: 'chips 10'",
     "output_type": "error",
     "traceback": [
      "\u001b[1;31m---------------------------------------------------------------------------\u001b[0m",
      "\u001b[1;31mValueError\u001b[0m                                Traceback (most recent call last)",
      "\u001b[1;32m<ipython-input-20-af24af91caf7>\u001b[0m in \u001b[0;36m<module>\u001b[1;34m\u001b[0m\n\u001b[0;32m      1\u001b[0m \u001b[1;32mimport\u001b[0m \u001b[0mmath\u001b[0m\u001b[1;33m\u001b[0m\u001b[1;33m\u001b[0m\u001b[0m\n\u001b[0;32m      2\u001b[0m \u001b[0mAB\u001b[0m \u001b[1;33m=\u001b[0m \u001b[0mint\u001b[0m\u001b[1;33m(\u001b[0m\u001b[0minput\u001b[0m\u001b[1;33m(\u001b[0m\u001b[1;33m)\u001b[0m\u001b[1;33m)\u001b[0m\u001b[1;33m\u001b[0m\u001b[1;33m\u001b[0m\u001b[0m\n\u001b[1;32m----> 3\u001b[1;33m \u001b[0mBC\u001b[0m \u001b[1;33m=\u001b[0m \u001b[0mint\u001b[0m\u001b[1;33m(\u001b[0m\u001b[0minput\u001b[0m\u001b[1;33m(\u001b[0m\u001b[1;33m)\u001b[0m\u001b[1;33m)\u001b[0m\u001b[1;33m\u001b[0m\u001b[1;33m\u001b[0m\u001b[0m\n\u001b[0m\u001b[0;32m      4\u001b[0m \u001b[0mx\u001b[0m\u001b[1;33m=\u001b[0m \u001b[0mAB\u001b[0m\u001b[1;33m*\u001b[0m\u001b[0mAB\u001b[0m \u001b[1;33m+\u001b[0m \u001b[0mBC\u001b[0m\u001b[1;33m*\u001b[0m\u001b[0mBC\u001b[0m\u001b[1;33m\u001b[0m\u001b[1;33m\u001b[0m\u001b[0m\n\u001b[0;32m      5\u001b[0m \u001b[0mMC\u001b[0m \u001b[1;33m=\u001b[0m \u001b[1;33m(\u001b[0m\u001b[0mmath\u001b[0m\u001b[1;33m.\u001b[0m\u001b[0msqrt\u001b[0m\u001b[1;33m(\u001b[0m\u001b[0mx\u001b[0m\u001b[1;33m)\u001b[0m\u001b[1;33m/\u001b[0m\u001b[1;36m2\u001b[0m\u001b[1;33m)\u001b[0m\u001b[1;33m\u001b[0m\u001b[1;33m\u001b[0m\u001b[0m\n",
      "\u001b[1;31mValueError\u001b[0m: invalid literal for int() with base 10: 'chips 10'"
     ]
    }
   ],
   "source": [
    "import math\n",
    "AB = int(input())\n",
    "BC = int(input())\n",
    "x= AB*AB + BC*BC\n",
    "MC = (math.sqrt(x)/2)\n",
    "y = MC/BC\n",
    "rad = math.asin(y)\n",
    "theta = math.degrees(rad)\n",
    "print(round(theta),end='') \n",
    "print(u\"\\N{DEGREE SIGN}\")\n"
   ]
  },
  {
   "cell_type": "code",
   "execution_count": null,
   "id": "b1bdbbfa",
   "metadata": {},
   "outputs": [],
   "source": []
  }
 ],
 "metadata": {
  "kernelspec": {
   "display_name": "Python 3",
   "language": "python",
   "name": "python3"
  },
  "language_info": {
   "codemirror_mode": {
    "name": "ipython",
    "version": 3
   },
   "file_extension": ".py",
   "mimetype": "text/x-python",
   "name": "python",
   "nbconvert_exporter": "python",
   "pygments_lexer": "ipython3",
   "version": "3.9.4"
  }
 },
 "nbformat": 4,
 "nbformat_minor": 5
}
