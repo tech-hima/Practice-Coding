{
 "cells": [
  {
   "cell_type": "code",
   "execution_count": 1,
   "id": "c2904a14",
   "metadata": {},
   "outputs": [
    {
     "name": "stdout",
     "output_type": "stream",
     "text": [
      "Enter value if n:5\n",
      "*\n",
      "**\n",
      "***\n",
      "****\n",
      "*****\n"
     ]
    }
   ],
   "source": [
    "n = int(input('Enter value if n:'))\n",
    "s = '*'\n",
    "for i in range(n):\n",
    "    print(s*(i+1))"
   ]
  },
  {
   "cell_type": "code",
   "execution_count": 2,
   "id": "3e612fb9",
   "metadata": {},
   "outputs": [
    {
     "name": "stdout",
     "output_type": "stream",
     "text": [
      "Enter the value :5\n",
      " \n",
      "1 \n",
      "12 \n",
      "123 \n",
      "1234 \n"
     ]
    }
   ],
   "source": [
    "n=int(input(\"Enter the value :\"))\n",
    "for i in range (n):\n",
    "    for j in range(i):\n",
    "        print(j+1,end='')\n",
    "    print(\" \")"
   ]
  },
  {
   "cell_type": "code",
   "execution_count": 18,
   "id": "48ccfc03",
   "metadata": {},
   "outputs": [
    {
     "name": "stdout",
     "output_type": "stream",
     "text": [
      "Enter the value of n:6\n",
      "     1\n",
      "    121\n",
      "   12321\n",
      "  1234321\n",
      " 123454321\n",
      "12345654321\n"
     ]
    }
   ],
   "source": [
    "n=int(input(\"Enter the value of n:\"))\n",
    "for i in range(1,n+1, 1):\n",
    "    print(\" \"*(n-i), end='')\n",
    "    p=0\n",
    "    for j in range(1,2*i, 1):\n",
    "        if j>i:\n",
    "            p=p-1\n",
    "        else:\n",
    "            p=p + 1\n",
    "        print(p, end='')\n",
    "    print('')"
   ]
  },
  {
   "cell_type": "code",
   "execution_count": 29,
   "id": "7a9c4dcf",
   "metadata": {},
   "outputs": [
    {
     "name": "stdout",
     "output_type": "stream",
     "text": [
      "Enter the value of n:5\n",
      "    1\n",
      "   232\n",
      "  34543\n",
      " 4567654\n",
      "567898765\n"
     ]
    }
   ],
   "source": [
    "'''\n",
    "1\n",
    "232\n",
    "34543\n",
    "'''\n",
    "n=int(input(\"Enter the value of n:\"))\n",
    "for i in range(1, n+1):\n",
    "    print(\" \"*(n-i), end='')\n",
    "    p=i-1\n",
    "    for j in range(1, 2*i, 1):\n",
    "        #print(i, j, '*****')\n",
    "        if j>i:\n",
    "            p=p-1\n",
    "        else:\n",
    "            p=p + 1\n",
    "        print(p, end='')\n",
    "    print('')"
   ]
  },
  {
   "cell_type": "code",
   "execution_count": 48,
   "id": "4d171fd2",
   "metadata": {},
   "outputs": [
    {
     "name": "stdout",
     "output_type": "stream",
     "text": [
      "Enter the value :6\n",
      "1 \n",
      "1 1 \n",
      "1 2 1 \n",
      "1 3 3 1 \n",
      "1 4 6 4 1 \n",
      "1 5 10 10 5 1 \n"
     ]
    }
   ],
   "source": [
    "'''\n",
    "11 multiple pattern \n",
    "'''\n",
    "from math import  factorial \n",
    "n=int(input(\"Enter the value :\"))\n",
    "for i in range(n):\n",
    "    #print(\" \"*(n-i), end='')\n",
    "    for j in range(i+1):\n",
    "        #print('\\n', i, j, '***')\n",
    "        print(factorial(i)//(factorial(j)*factorial(i-j)), end=' ')\n",
    "    print(\"\")\n",
    "    #another methods also "
   ]
  },
  {
   "cell_type": "code",
   "execution_count": 1,
   "id": "9d5b6432",
   "metadata": {},
   "outputs": [
    {
     "name": "stdout",
     "output_type": "stream",
     "text": [
      "11\n",
      "---------------.|.---------------\n",
      "------------.|..|..|.------------\n",
      "---------.|..|..|..|..|.---------\n",
      "------.|..|..|..|..|..|..|.------\n",
      "---.|..|..|..|..|..|..|..|..|.---\n",
      "-------------WELCOME-------------\n",
      "---.|..|..|..|..|..|..|..|..|.---\n",
      "------.|..|..|..|..|..|..|.------\n",
      "---------.|..|..|..|..|.---------\n",
      "------------.|..|..|.------------\n",
      "---------------.|.---------------\n"
     ]
    }
   ],
   "source": [
    "N  = int(input())\n",
    "M=(3*N)\n",
    "mid=(N+1)//2\n",
    "p='.|.'\n",
    "q='-'\n",
    "\n",
    "for i in range(1,N+1,1):\n",
    "    c=abs(mid-i)\n",
    "    if(i<mid):\n",
    "        print(q*c*3, end=\"\")\n",
    "        print(p*(2*i-1),end=\"\")\n",
    "        print(q*c*3)\n",
    "        \n",
    "    if(i==mid):\n",
    "        print(((M-7)//2)*q,end=\"\")\n",
    "        print(\"WELCOME\",end=\"\")\n",
    "        print(((M-7)//2)*q)\n",
    "        \n",
    "    if(i>mid):\n",
    "        print(q*c*3,end=\"\")\n",
    "        print(p*(((N-i)*2)+1),end=\"\")\n",
    "        print(q*c*3)\n",
    "        \n",
    "    \n",
    "        \n",
    "        "
   ]
  },
  {
   "cell_type": "code",
   "execution_count": 10,
   "id": "f8db58eb",
   "metadata": {},
   "outputs": [
    {
     "name": "stdout",
     "output_type": "stream",
     "text": [
      "1 6\n"
     ]
    }
   ],
   "source": [
    "N,M  = input().split(' ')\n",
    "N = int(N)\n",
    "M = int(M)"
   ]
  },
  {
   "cell_type": "code",
   "execution_count": 11,
   "id": "17d1c36f",
   "metadata": {},
   "outputs": [
    {
     "data": {
      "text/plain": [
       "(1, 6, int, int)"
      ]
     },
     "execution_count": 11,
     "metadata": {},
     "output_type": "execute_result"
    }
   ],
   "source": [
    "N, M, type(N), type(M)"
   ]
  },
  {
   "cell_type": "code",
   "execution_count": null,
   "id": "3bc23882",
   "metadata": {},
   "outputs": [],
   "source": []
  }
 ],
 "metadata": {
  "kernelspec": {
   "display_name": "Python 3",
   "language": "python",
   "name": "python3"
  },
  "language_info": {
   "codemirror_mode": {
    "name": "ipython",
    "version": 3
   },
   "file_extension": ".py",
   "mimetype": "text/x-python",
   "name": "python",
   "nbconvert_exporter": "python",
   "pygments_lexer": "ipython3",
   "version": "3.9.4"
  }
 },
 "nbformat": 4,
 "nbformat_minor": 5
}
